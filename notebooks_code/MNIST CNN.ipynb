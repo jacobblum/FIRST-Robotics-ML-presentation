{
 "cells": [
  {
   "cell_type": "code",
   "execution_count": 2,
   "id": "9e005783",
   "metadata": {},
   "outputs": [
    {
     "name": "stderr",
     "output_type": "stream",
     "text": [
      "/Users/jacobblum/anaconda3/lib/python3.10/site-packages/torchvision/io/image.py:13: UserWarning: Failed to load image Python extension: 'dlopen(/Users/jacobblum/anaconda3/lib/python3.10/site-packages/torchvision/image.so, 0x0006): Symbol not found: __ZN3c106detail19maybe_wrap_dim_slowIxEET_S2_S2_b\n",
      "  Referenced from: /Users/jacobblum/anaconda3/lib/python3.10/site-packages/torchvision/image.so\n",
      "  Expected in: /Users/jacobblum/anaconda3/lib/python3.10/site-packages/torch/lib/libc10.dylib'If you don't plan on using image functionality from `torchvision.io`, you can ignore this warning. Otherwise, there might be something wrong with your environment. Did you have `libjpeg` or `libpng` installed before building `torchvision` from source?\n",
      "  warn(\n"
     ]
    }
   ],
   "source": [
    "import torch\n",
    "import torchvision\n",
    "import matplotlib.pyplot as plt \n",
    "\n",
    "import torch.nn as nn\n",
    "import torch.optim as optim\n",
    "from tqdm.notebook import tqdm "
   ]
  },
  {
   "cell_type": "code",
   "execution_count": 3,
   "id": "f2471999",
   "metadata": {},
   "outputs": [],
   "source": [
    "transform = torchvision.transforms.Compose([torchvision.transforms.ToTensor(),\n",
    "                              torchvision.transforms.Normalize((0.5,), (0.5,)),\n",
    "                              ])\n",
    "\n",
    "\n",
    "trainset = torchvision.datasets.MNIST(root='./data', train=True, download=True, transform=transform)\n",
    "testset  = torchvision.datasets.MNIST(root='./data', train=False, download=True, transform= transform)"
   ]
  },
  {
   "cell_type": "code",
   "execution_count": 4,
   "id": "92a99f5a",
   "metadata": {},
   "outputs": [],
   "source": [
    "X_train = trainset.data.float()\n",
    "y_train = trainset.targets.float()\n",
    "\n",
    "X_test = testset.data.float()\n",
    "y_test = testset.targets.float()\n"
   ]
  },
  {
   "cell_type": "code",
   "execution_count": 5,
   "id": "e05fefd1",
   "metadata": {},
   "outputs": [
    {
     "data": {
      "image/png": "[encoded data removed]",
      "text/plain": [
       "<Figure size 800x800 with 16 Axes>"
      ]
     },
     "metadata": {},
     "output_type": "display_data"
    }
   ],
   "source": [
    "#Lets Check to see what the data looks like \n",
    "\n",
    "fig, axs = plt.subplots(4,4, figsize = (8,8))\n",
    "for inx, ax in enumerate(axs.flatten()):\n",
    "    ax.imshow(X_train[inx, :, :], cmap = 'gray')\n",
    "    ax.axis('off')"
   ]
  },
  {
   "cell_type": "code",
   "execution_count": 6,
   "id": "072e4dcf",
   "metadata": {},
   "outputs": [
    {
     "name": "stdout",
     "output_type": "stream",
     "text": [
      "torch.Size([28, 28])\n"
     ]
    }
   ],
   "source": [
    "# We need to know the shape of our inputs!\n",
    "\n",
    "print(X_train[0,:,:].shape)"
   ]
  },
  {
   "cell_type": "code",
   "execution_count": 7,
   "id": "f63a0f3e",
   "metadata": {},
   "outputs": [],
   "source": [
    "# Now let's define our network \n",
    "\n",
    "\n",
    "\n",
    "# Activation Function: ReLU\n",
    "\n",
    "class CNN(nn.Module):\n",
    "    def __init__(self) -> None:\n",
    "        super().__init__()\n",
    "        \n",
    "        self.conv01 = nn.Conv2d(1, 32, kernel_size = 5)\n",
    "        self.conv02 = nn.Conv2d(32, 32, kernel_size = 5)\n",
    "        self.conv03 = nn.Conv2d(32, 64, kernel_size = 5)\n",
    "        \n",
    "        self.fc01 = nn.Linear(3*3*64, 256)\n",
    "        self.fc02 = nn.Linear(256, 10)\n",
    "        \n",
    "        self.relu = nn.ReLU()\n",
    "        self.maxpool2 = nn.MaxPool2d(kernel_size=(2, 2), stride=(2, 2))\n",
    "        self.out_act = nn.LogSoftmax(dim = 1)\n",
    "    \n",
    "        \n",
    "    def forward(self, x):\n",
    "        x = self.relu(self.conv01(x))\n",
    "        x = self.relu(self.maxpool2(self.conv02(x)))\n",
    "        x = self.relu(self.maxpool2(self.conv03(x)))\n",
    "        x = x.view(-1, 3*3*64)\n",
    "        x = self.relu(self.fc01(x))\n",
    "        x = self.fc02(x)\n",
    "        return self.out_act(x)\n",
    "        \n",
    "        \n",
    "# CNN expects inputs in the shape [N_batches, N_channels, height, width] = [Nb, 1, 28, 28] ! \n"
   ]
  },
  {
   "cell_type": "code",
   "execution_count": 9,
   "id": "3987c47d",
   "metadata": {},
   "outputs": [
    {
     "name": "stdout",
     "output_type": "stream",
     "text": [
      "the network guessed that the 0th image was: 2, the correct answer is: 5.0\n",
      "the network guessed that the 1th image was: 2, the correct answer is: 0.0\n",
      "the network guessed that the 2th image was: 2, the correct answer is: 4.0\n",
      "the network guessed that the 3th image was: 6, the correct answer is: 1.0\n",
      "the network guessed that the 4th image was: 2, the correct answer is: 9.0\n",
      "the network guessed that the 5th image was: 6, the correct answer is: 2.0\n",
      "the network guessed that the 6th image was: 0, the correct answer is: 1.0\n",
      "the network guessed that the 7th image was: 2, the correct answer is: 3.0\n",
      "accuracy = 0.0 %\n"
     ]
    },
    {
     "name": "stderr",
     "output_type": "stream",
     "text": [
      "[W NNPACK.cpp:51] Could not initialize NNPACK! Reason: Unsupported hardware.\n"
     ]
    }
   ],
   "source": [
    "# Plot the Networks initial Guesses\n",
    "\n",
    "f = CNN()\n",
    "\n",
    "guesses = []\n",
    "for i in range(8):\n",
    "    guesses.append(torch.argmax(f( (X_train[i, :,:]).reshape(1,1,28,28))))\n",
    "    print('the network guessed that the {}th image was: {}, the correct answer is: {}'.format(i, guesses[i], y_train[i]))\n",
    "\n",
    "    \n",
    "guesses = torch.FloatTensor(guesses)\n",
    "print('accuracy = {} %'.format((guesses == y_train[0:8]).sum() / len(guesses) )) \n",
    "\n",
    "\n"
   ]
  },
  {
   "cell_type": "code",
   "execution_count": 10,
   "id": "dd5ed6c4",
   "metadata": {},
   "outputs": [
    {
     "data": {
      "application/vnd.jupyter.widget-view+json": {
       "model_id": "2c1bda9da77b4e67b3136513c1f2e1ea",
       "version_major": 2,
       "version_minor": 0
      },
      "text/plain": [
       "training neural network:   0%|          | 0/10 [00:00<?, ?it/s]"
      ]
     },
     "metadata": {},
     "output_type": "display_data"
    },
    {
     "data": {
      "application/vnd.jupyter.widget-view+json": {
       "model_id": "1699eb84d4034841940fb19bc1aab234",
       "version_major": 2,
       "version_minor": 0
      },
      "text/plain": [
       "  0%|          | 0/938 [00:00<?, ?it/s]"
      ]
     },
     "metadata": {},
     "output_type": "display_data"
    },
    {
     "data": {
      "application/vnd.jupyter.widget-view+json": {
       "model_id": "5de7ff4e3eb44786a909aea5d1f3700d",
       "version_major": 2,
       "version_minor": 0
      },
      "text/plain": [
       "  0%|          | 0/938 [00:00<?, ?it/s]"
      ]
     },
     "metadata": {},
     "output_type": "display_data"
    },
    {
     "data": {
      "application/vnd.jupyter.widget-view+json": {
       "model_id": "36f58e1431804987a1c306d91fdce475",
       "version_major": 2,
       "version_minor": 0
      },
      "text/plain": [
       "  0%|          | 0/938 [00:00<?, ?it/s]"
      ]
     },
     "metadata": {},
     "output_type": "display_data"
    },
    {
     "data": {
      "application/vnd.jupyter.widget-view+json": {
       "model_id": "4da6a6fd7e3d4f5b86b5805a1708a0ae",
       "version_major": 2,
       "version_minor": 0
      },
      "text/plain": [
       "  0%|          | 0/938 [00:00<?, ?it/s]"
      ]
     },
     "metadata": {},
     "output_type": "display_data"
    },
    {
     "data": {
      "application/vnd.jupyter.widget-view+json": {
       "model_id": "a5715153c58d498ba14ae7b89e8e5b42",
       "version_major": 2,
       "version_minor": 0
      },
      "text/plain": [
       "  0%|          | 0/938 [00:00<?, ?it/s]"
      ]
     },
     "metadata": {},
     "output_type": "display_data"
    },
    {
     "data": {
      "application/vnd.jupyter.widget-view+json": {
       "model_id": "28a6e9e646364149831d6def37044dc9",
       "version_major": 2,
       "version_minor": 0
      },
      "text/plain": [
       "  0%|          | 0/938 [00:00<?, ?it/s]"
      ]
     },
     "metadata": {},
     "output_type": "display_data"
    },
    {
     "data": {
      "application/vnd.jupyter.widget-view+json": {
       "model_id": "a9b842bcf7c3445ea97b168a63859979",
       "version_major": 2,
       "version_minor": 0
      },
      "text/plain": [
       "  0%|          | 0/938 [00:00<?, ?it/s]"
      ]
     },
     "metadata": {},
     "output_type": "display_data"
    },
    {
     "data": {
      "application/vnd.jupyter.widget-view+json": {
       "model_id": "1209773cc1b74ab4b9d4a6eebbb5e100",
       "version_major": 2,
       "version_minor": 0
      },
      "text/plain": [
       "  0%|          | 0/938 [00:00<?, ?it/s]"
      ]
     },
     "metadata": {},
     "output_type": "display_data"
    },
    {
     "data": {
      "application/vnd.jupyter.widget-view+json": {
       "model_id": "732096e3baa74a10870fc834762d5f87",
       "version_major": 2,
       "version_minor": 0
      },
      "text/plain": [
       "  0%|          | 0/938 [00:00<?, ?it/s]"
      ]
     },
     "metadata": {},
     "output_type": "display_data"
    },
    {
     "data": {
      "application/vnd.jupyter.widget-view+json": {
       "model_id": "768a85d7099648e7a1722fc3b0e92cee",
       "version_major": 2,
       "version_minor": 0
      },
      "text/plain": [
       "  0%|          | 0/938 [00:00<?, ?it/s]"
      ]
     },
     "metadata": {},
     "output_type": "display_data"
    }
   ],
   "source": [
    "from tqdm.notebook import tqdm\n",
    "\n",
    "f = CNN()\n",
    "\n",
    "batch_size = 64\n",
    "N_epochs = 10\n",
    "optimizer = optim.Adam(f.parameters(), lr = 1e-3 )\n",
    "lfn = nn.CrossEntropyLoss()\n",
    "\n",
    "trainloader = torch.utils.data.DataLoader(trainset, batch_size = batch_size, shuffle = True)\n",
    "\n",
    "loss_list = []\n",
    "\n",
    "for epoch in tqdm(range(N_epochs), desc = 'training neural network'):\n",
    "    for images, labels in tqdm(trainloader):\n",
    "        optimizer.zero_grad()\n",
    "        pred_labels = f(images)\n",
    "        loss = lfn(pred_labels, labels)\n",
    "        loss.backward()\n",
    "        optimizer.step()\n",
    "        loss_list.append(loss)"
   ]
  },
  {
   "cell_type": "code",
   "execution_count": 11,
   "id": "493364b4",
   "metadata": {},
   "outputs": [
    {
     "name": "stdout",
     "output_type": "stream",
     "text": [
      "accuracy over 250 random test samples = 0.9919999837875366 %\n"
     ]
    }
   ],
   "source": [
    "# Let's check the accuracy now \n",
    "N_examples = 250\n",
    "\n",
    "guesses = []\n",
    "for i in range(N_examples):\n",
    "    guesses.append(torch.argmax(f( (X_train[i, :,:]).reshape(1,1,28,28))))\n",
    "    #print('the network guessed that the {}th image was: {}, the correct answer is: {}'.format(i, guesses[i], y_test[i]))\n",
    "    \n",
    "guesses = torch.FloatTensor(guesses)\n",
    "print('accuracy over {} random test samples = {} %'.format(N_examples, (guesses == y_train[0:N_examples]).sum() / len(guesses) )) \n",
    "\n",
    "# 96 %, pretty good ! "
   ]
  },
  {
   "cell_type": "code",
   "execution_count": null,
   "id": "c1e463fd",
   "metadata": {},
   "outputs": [],
   "source": []
  }
 ],
 "metadata": {
  "kernelspec": {
   "display_name": "Python 3 (ipykernel)",
   "language": "python",
   "name": "python3"
  },
  "language_info": {
   "codemirror_mode": {
    "name": "ipython",
    "version": 3
   },
   "file_extension": ".py",
   "mimetype": "text/x-python",
   "name": "python",
   "nbconvert_exporter": "python",
   "pygments_lexer": "ipython3",
   "version": "3.10.9"
  }
 },
 "nbformat": 4,
 "nbformat_minor": 5
}
